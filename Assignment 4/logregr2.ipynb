{
 "cells": [
  {
   "cell_type": "markdown",
   "metadata": {},
   "source": [
    "1. Input Data Setup:\n",
    "x_in and y_in: Arrays representing the input data for logistic regression. x_in contains feature values, while y_in contains corresponding labels (0 or 1).\n",
    "y1_in: Complement of y_in (i.e., if y_in is 0, y1_in is 1, and vice versa).\n",
    "nx: Size of the input array x_in.\n",
    "2. Objective Function Definition:\n",
    "The objective function is the negative log-likelihood for logistic regression:"
   ]
  },
  {
   "cell_type": "code",
   "execution_count": 22,
   "metadata": {},
   "outputs": [],
   "source": [
    "import numpy as np\n",
    "import matplotlib.pyplot as plt\n",
    "\n",
    "x_in = np.array([2.5,5.5,7.5,8,11,15.5,17,19,23.75,24])\n",
    "y_in = np.array([0,0,0,0,0,1,1,1,1,1],dtype=np.int8)\n",
    "y1_in=1-y_in\n",
    "nx=x_in.size"
   ]
  },
  {
   "cell_type": "code",
   "execution_count": 23,
   "metadata": {},
   "outputs": [],
   "source": [
    "def objective_function(w):\n",
    "    z = w[0] + w[1] * x_in\n",
    "    z1 = np.log(1 + np.exp(-z))\n",
    "    z2 = np.log(1 + np.exp(z))\n",
    "    return np.dot(y_in, z1) + np.dot(y1_in, z2)"
   ]
  },
  {
   "cell_type": "markdown",
   "metadata": {},
   "source": [
    "(i) Purpose: It calculates the cost that needs to be minimized. This is the sum of the losses for the positive and negative classes.\n",
    "\n",
    "(ii) z: The linear combination of the input features and weights (w[0] is the intercept and w[1] is the slope).\n",
    "\n",
    "(iii) z1: Logistic loss for y_in = 1.\n",
    "\n",
    "(iv) z2: Logistic loss for y_in = 0.\n",
    "\n",
    "(v) The total loss is the sum of the losses for both classes."
   ]
  },
  {
   "cell_type": "markdown",
   "metadata": {},
   "source": [
    "3. Gradient Function Definition:"
   ]
  },
  {
   "cell_type": "code",
   "execution_count": 24,
   "metadata": {},
   "outputs": [],
   "source": [
    "def gradient_function(w):\n",
    "    hi = 1 / (1 + np.exp(-w[0] - w[1] * x_in))  # Sigmoid function\n",
    "    yh = 1. * hi - 1. * y_in\n",
    "    return np.array([np.sum(yh), np.dot(yh, x_in)])"
   ]
  },
  {
   "cell_type": "markdown",
   "metadata": {},
   "source": [
    "(i) Purpose: It computes the gradient of the objective function with respect to the weights w. This gradient will guide the updates in the direction of minimizing the objective function.\n",
    "\n",
    "(ii) hi: Represents the predicted probabilities (sigmoid function).\n",
    "\n",
    "(iii) yh: Difference between the predicted probability hi and the actual values y_in."
   ]
  },
  {
   "cell_type": "markdown",
   "metadata": {},
   "source": [
    "4. Line Search Algorithm:"
   ]
  },
  {
   "cell_type": "code",
   "execution_count": 25,
   "metadata": {},
   "outputs": [],
   "source": [
    "def line_search(objective_function, gradient, x):\n",
    "    beta = .1\n",
    "    stepsize = 1\n",
    "    trial = 100\n",
    "    tau = .5\n",
    "    for i in range(trial):\n",
    "        fx1 = objective_function(x)\n",
    "        fx2 = objective_function(x - stepsize * gradient)\n",
    "        c = -beta * stepsize * np.dot(gradient, gradient)\n",
    "        if fx2 - fx1 <= c:\n",
    "            break\n",
    "        else:\n",
    "            stepsize = tau * stepsize\n",
    "    return stepsize"
   ]
  },
  {
   "cell_type": "markdown",
   "metadata": {},
   "source": [
    "(i) Purpose: To dynamically adjust the step size when updating the weights w.\n",
    "\n",
    "(ii) stepsize: Initial step size for gradient descent.\n",
    "\n",
    "(iii) The algorithm iteratively reduces the step size (stepsize = tau * stepsize) until a sufficient decrease in the objective function is observed (fx2 - fx1 <= c).\n",
    "\n",
    "(iv) This ensures a more efficient convergence of the gradient descent."
   ]
  },
  {
   "cell_type": "markdown",
   "metadata": {},
   "source": [
    "5. Main Gradient Descent Loop:"
   ]
  },
  {
   "cell_type": "code",
   "execution_count": 26,
   "metadata": {},
   "outputs": [
    {
     "name": "stderr",
     "output_type": "stream",
     "text": [
      "C:\\Users\\Harsh\\AppData\\Local\\Temp\\ipykernel_18428\\3980914087.py:3: RuntimeWarning: overflow encountered in exp\n",
      "  z1 = np.log(1 + np.exp(-z))\n"
     ]
    }
   ],
   "source": [
    "maxit = 1000000\n",
    "epsilon = 1.e-3 \n",
    "w = np.array([-2, 3])  # Initial weight vector\n",
    "for i in range(maxit):\n",
    "    gradient = gradient_function(w)\n",
    "    b = np.linalg.norm(gradient)\n",
    "    if b < epsilon:\n",
    "        break\n",
    "    stepsize = line_search(objective_function, gradient, w)\n",
    "    w = w - stepsize * gradient\n",
    "    #print(i, b)"
   ]
  },
  {
   "cell_type": "markdown",
   "metadata": {},
   "source": [
    "(i) Purpose: To iteratively update the weight vector w using gradient descent until convergence.\n",
    "\n",
    "(ii) The loop runs for a maximum of maxit iterations, but it will terminate earlier if the norm of the gradient (b) is smaller than a threshold (epsilon), indicating that the algorithm has converged.\n",
    "\n",
    "(iii) At each iteration, the gradient_function is used to compute the gradient, and line_search determines the appropriate step size for updating the weights."
   ]
  },
  {
   "cell_type": "markdown",
   "metadata": {},
   "source": [
    "6. Print Results:"
   ]
  },
  {
   "cell_type": "code",
   "execution_count": 27,
   "metadata": {},
   "outputs": [
    {
     "name": "stdout",
     "output_type": "stream",
     "text": [
      "Minimum value: 0.005878512558580003\n",
      "Minimum location: [-34.28669694   2.60140076]\n",
      "iteration: 11356\n"
     ]
    }
   ],
   "source": [
    "minimum_value = objective_function(w)\n",
    "print(\"Minimum value:\", minimum_value)\n",
    "print(\"Minimum location:\", w)\n",
    "print(\"iteration:\", i)"
   ]
  },
  {
   "cell_type": "markdown",
   "metadata": {},
   "source": [
    "(i) The minimum value of the objective function and the final values of the weights (w) are printed, as well as the number of iterations the algorithm took to converge."
   ]
  },
  {
   "cell_type": "markdown",
   "metadata": {},
   "source": [
    "7. Plotting the Decision Boundary:"
   ]
  },
  {
   "cell_type": "code",
   "execution_count": 28,
   "metadata": {},
   "outputs": [
    {
     "data": {
      "image/png": "[encoded data removed]",
      "text/plain": [
       "<Figure size 640x480 with 1 Axes>"
      ]
     },
     "metadata": {},
     "output_type": "display_data"
    }
   ],
   "source": [
    "x_plot = np.linspace(2.5, 24, 100)\n",
    "z = np.zeros(x_plot.size)\n",
    "p = np.zeros(x_plot.size)\n",
    "z[:] = -w[0] - w[1] * x_plot[:]\n",
    "p[:] = 1 / (1 + np.exp(z[:]))  # Predicted probabilities (sigmoid)\n",
    "plt.scatter(x_in, y_in, color='black')  # Input data points\n",
    "plt.plot(x_plot, p, color='blue')  # Logistic regression curve\n",
    "plt.savefig('log_regression3.tif', dpi=1200)\n",
    "plt.show()"
   ]
  },
  {
   "cell_type": "markdown",
   "metadata": {},
   "source": [
    "(i) Purpose: This section generates and plots the logistic regression curve.\n",
    "\n",
    "(ii) x_plot: A range of values for plotting the decision boundary.\n",
    "\n",
    "(iii) p: Predicted probabilities using the final weights (w) on the range of values x_plot.\n",
    "\n",
    "(iv) The plot includes the original input data points (x_in, y_in) as black dots, and the logistic regression decision boundary as a blue line."
   ]
  },
  {
   "cell_type": "markdown",
   "metadata": {},
   "source": [
    "Summary:\n",
    "\n",
    "1. Algorithm: This solution implements a logistic regression model using gradient descent with dynamic step-size adjustment (line search).\n",
    "2. Objective: To minimize the negative log-likelihood for a binary classification task.\n",
    "3. Result: The algorithm provides the optimal parameters (weights) that define the decision boundary for logistic regression and visualizes the result with a plotted logistic curve."
   ]
  }
 ],
 "metadata": {
  "kernelspec": {
   "display_name": "Python 3",
   "language": "python",
   "name": "python3"
  },
  "language_info": {
   "codemirror_mode": {
    "name": "ipython",
    "version": 3
   },
   "file_extension": ".py",
   "mimetype": "text/x-python",
   "name": "python",
   "nbconvert_exporter": "python",
   "pygments_lexer": "ipython3",
   "version": "3.12.5"
  }
 },
 "nbformat": 4,
 "nbformat_minor": 2
}
