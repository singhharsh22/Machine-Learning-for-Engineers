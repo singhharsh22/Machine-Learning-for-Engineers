{
 "cells": [
  {
   "cell_type": "code",
   "execution_count": 9,
   "id": "fb2c4fd7-100f-4772-b63c-09c5ef567bc9",
   "metadata": {
    "tags": []
   },
   "outputs": [],
   "source": [
    "import numpy as np\n",
    "import matplotlib.pyplot as plt"
   ]
  },
  {
   "cell_type": "code",
   "execution_count": 10,
   "id": "7fc0c5c1",
   "metadata": {},
   "outputs": [],
   "source": [
    "maxit=1000000;epsilon=0.001\n",
    "objective_function=lambda x:((((x[0]**2)+x[1]-11)**2)+(((x[1]**2)+x[0]-7)**2))\n",
    "gradient_function=lambda x:np.array([(2*((x[0]**2)+x[1]-11)*(2*x[0]))+(2*((x[1]**2)+x[0]-7)),(2*((x[0]**2)+x[1]-11))+(2*((x[1]**2)+x[0]-7)*(2*x[1]))])"
   ]
  },
  {
   "cell_type": "code",
   "execution_count": 11,
   "id": "53938ef2",
   "metadata": {},
   "outputs": [],
   "source": [
    "def line_search(objective_function,gradient,x):\n",
    "    beta=.1\n",
    "    stepsize=1\n",
    "    trial=100\n",
    "    tau=.5\n",
    "    for i in range(trial):\n",
    "        fx1=objective_function(x)\n",
    "        fx2=objective_function(x-stepsize*gradient)\n",
    "        c=-beta*stepsize*np.dot(gradient,gradient)\n",
    "        if fx2-fx1 <=c:\n",
    "            break\n",
    "        else:\n",
    "            stepsize=tau*stepsize\n",
    "    return stepsize"
   ]
  },
  {
   "cell_type": "code",
   "execution_count": 12,
   "id": "253b79be",
   "metadata": {},
   "outputs": [
    {
     "name": "stdout",
     "output_type": "stream",
     "text": [
      "Minimum value: 7.368947568261478e-09\n",
      "Minimum location: [2.99999944 1.99997953]\n",
      "iteration: 15\n"
     ]
    }
   ],
   "source": [
    "x_store=np.zeros((2,100))\n",
    "x=np.array([0,0])\n",
    "for i in range(maxit):\n",
    "    x_store[0,i]=x[0];x_store[1,i]=x[1]\n",
    "    gradient=gradient_function(x)\n",
    "    b=np.linalg.norm(gradient)\n",
    "    if b < epsilon:\n",
    "        break\n",
    "    stepsize=line_search(objective_function,gradient,x)\n",
    "    x = x-stepsize * gradient\n",
    "\n",
    "minimum_value = objective_function(x)\n",
    "\n",
    "print(\"Minimum value:\", minimum_value)\n",
    "print(\"Minimum location:\", x)\n",
    "print(\"iteration:\", i)"
   ]
  },
  {
   "cell_type": "code",
   "execution_count": 13,
   "id": "b56b89da",
   "metadata": {},
   "outputs": [
    {
     "data": {
      "text/plain": [
       "<Figure size 2000x2000 with 0 Axes>"
      ]
     },
     "metadata": {},
     "output_type": "display_data"
    }
   ],
   "source": [
    "X, Y = np.meshgrid(np.linspace(-4, 4, 20), np.linspace(-4, 4, 20))\n",
    "Z = objective_function(np.array([X, Y]))\n",
    "fig = plt.figure(figsize=(20, 20))"
   ]
  },
  {
   "cell_type": "code",
   "execution_count": 14,
   "id": "b62cd772",
   "metadata": {},
   "outputs": [],
   "source": [
    "# First subplot\n",
    "ax = fig.add_subplot(1, 2, 1, projection='3d')\n",
    "ax.contour3D(X, Y, Z, 60, cmap='viridis')\n",
    "ax.plot(x_store[0,0:i], x_store[1,0:i], color='red', linewidth=3)\n",
    "#ax.scatter(min_x0, min_x1, min_z, marker='o', color='red', linewidth=10)\n",
    "ax.set_xlabel('$x_{0}$')\n",
    "ax.set_ylabel('$x_{1}$')\n",
    "ax.set_zlabel('$f(x)$')\n",
    "ax.view_init(20, 20)"
   ]
  },
  {
   "cell_type": "code",
   "execution_count": 15,
   "id": "4a239a2e",
   "metadata": {},
   "outputs": [],
   "source": [
    "# Second subplot\n",
    "ax = fig.add_subplot(1, 2, 2, projection='3d')\n",
    "ax.contour3D(X, Y, Z, 60, cmap='viridis')\n",
    "ax.plot(x_store[0,0:i], x_store[1,0:i], color='red', linewidth=3)\n",
    "#ax.scatter(min_x0, min_x1, min_z, marker='o', color='red', linewidth=10)\n",
    "ax.set_xlabel('$x_{0}$')\n",
    "ax.set_ylabel('$x_{1}$')\n",
    "ax.set_zlabel('$f(x)$')\n",
    "ax.axes.zaxis.set_ticklabels([])\n",
    "ax.view_init(90, -90);"
   ]
  }
 ],
 "metadata": {
  "kernelspec": {
   "display_name": "Python 3 (ipykernel)",
   "language": "python",
   "name": "python3"
  },
  "language_info": {
   "codemirror_mode": {
    "name": "ipython",
    "version": 3
   },
   "file_extension": ".py",
   "mimetype": "text/x-python",
   "name": "python",
   "nbconvert_exporter": "python",
   "pygments_lexer": "ipython3",
   "version": "3.12.5"
  }
 },
 "nbformat": 4,
 "nbformat_minor": 5
}
