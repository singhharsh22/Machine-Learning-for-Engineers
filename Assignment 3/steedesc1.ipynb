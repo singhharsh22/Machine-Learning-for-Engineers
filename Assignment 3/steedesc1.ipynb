{
 "cells": [
  {
   "cell_type": "code",
   "execution_count": 1,
   "metadata": {},
   "outputs": [],
   "source": [
    "import numpy as np\n",
    "import matplotlib.pyplot as plt\n",
    "from matplotlib.colors import ListedColormap"
   ]
  },
  {
   "cell_type": "code",
   "execution_count": null,
   "metadata": {},
   "outputs": [],
   "source": [
    "\"\"\"\n",
    "def f(x1,x2):\n",
    "    return ((((x1**2)+x2-11)**2)+(((x2**2)+x1-7)**2))\n",
    "\"\"\""
   ]
  },
  {
   "cell_type": "code",
   "execution_count": null,
   "metadata": {},
   "outputs": [],
   "source": [
    "def f(x):\n",
    "    return ((((x[0]**2)+x[1]-11)**2)+(((x[1]**2)+x[0]-7)**2))\n",
    "\n",
    "def delf(x):\n",
    "    return [(2*((x[0]**2)+x[1]-11)*(2*x[0]))+(2*((x[1]**2)+x[0]-7)),(2*((x[0]**2)+x[1]-11))+(2*((x[1]**2)+x[0]-7)*(2*x[1]))]"
   ]
  },
  {
   "cell_type": "code",
   "execution_count": null,
   "metadata": {},
   "outputs": [],
   "source": [
    "x1=0\n",
    "x2=0\n",
    "#step_size=0\n",
    "#tolerance=0.001\n",
    "h=0.001"
   ]
  },
  {
   "cell_type": "code",
   "execution_count": null,
   "metadata": {},
   "outputs": [],
   "source": [
    "x=[0,0]\n",
    "x_values=np.array([x])\n",
    "#features=np.array([[0,0]])\n",
    "y_values=np.array([f(x)])\n",
    "#x1_values=[]\n",
    "#x2_values=[]"
   ]
  },
  {
   "cell_type": "code",
   "execution_count": null,
   "metadata": {},
   "outputs": [],
   "source": [
    "#a=[0,0]"
   ]
  },
  {
   "cell_type": "code",
   "execution_count": null,
   "metadata": {},
   "outputs": [],
   "source": [
    "\"\"\"\n",
    "while True:\n",
    "    x11,x22=\n",
    "    a=features[-1]\n",
    "    if step_size>tolerance :\n",
    "\"\"\""
   ]
  },
  {
   "cell_type": "code",
   "execution_count": null,
   "metadata": {},
   "outputs": [],
   "source": [
    "while True:\n",
    "    y_values.append(f(x))\n",
    "    d=(-1)*delf(x)\n",
    "    #d1=(-1)*np.gradient(f(x))\n",
    "    x=x+(h*d)\n",
    "    x_values.append(x)\n",
    "    phi=f()\n",
    "    if step_size>0.001:\n",
    "        break\n",
    "    \n",
    "    "
   ]
  }
 ],
 "metadata": {
  "kernelspec": {
   "display_name": "Python 3",
   "language": "python",
   "name": "python3"
  },
  "language_info": {
   "codemirror_mode": {
    "name": "ipython",
    "version": 3
   },
   "file_extension": ".py",
   "mimetype": "text/x-python",
   "name": "python",
   "nbconvert_exporter": "python",
   "pygments_lexer": "ipython3",
   "version": "3.12.5"
  }
 },
 "nbformat": 4,
 "nbformat_minor": 2
}
