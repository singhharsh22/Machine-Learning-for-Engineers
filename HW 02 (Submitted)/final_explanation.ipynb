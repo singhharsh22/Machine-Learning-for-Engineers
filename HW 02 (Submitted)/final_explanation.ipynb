{
 "cells": [
  {
   "cell_type": "markdown",
   "metadata": {},
   "source": [
    "1. Importing Necessary Libraries"
   ]
  },
  {
   "cell_type": "code",
   "execution_count": 19,
   "metadata": {},
   "outputs": [],
   "source": [
    "# For numerical operations\n",
    "import numpy as np\n",
    "\n",
    "# For plotting graphs\n",
    "import matplotlib.pyplot as plt\n",
    "\n",
    "# For creating and using linear regression models\n",
    "from sklearn.linear_model import LinearRegression\n",
    "\n",
    "# For calculating the coefficient of determination (R²)\n",
    "from sklearn.metrics import r2_score"
   ]
  },
  {
   "cell_type": "markdown",
   "metadata": {},
   "source": [
    "numpy: Used for performing numerical operations efficiently, such as handling arrays and matrices.\n",
    "\n",
    "matplotlib.pyplot: A library used for creating static, animated, and interactive visualizations in Python.\n",
    "\n",
    "sklearn.linear_model.LinearRegression: A class from the 'scikit-learn' library used to perform linear regression.\n",
    "\n",
    "sklearn.metrics.r2_score: A function to compute the R² score, which indicates how well the regression model fits the data."
   ]
  },
  {
   "cell_type": "markdown",
   "metadata": {},
   "source": []
  },
  {
   "cell_type": "markdown",
   "metadata": {},
   "source": [
    "2. Data: Temperature and Hardness Values"
   ]
  },
  {
   "cell_type": "code",
   "execution_count": 20,
   "metadata": {},
   "outputs": [],
   "source": [
    "# Temperature data in °C\n",
    "temp = np.array([30, 30, 30, 30, 40, 40, 40, 50, 50, 50, 60, 60, 60, 60])\n",
    "\n",
    "# Hardness data\n",
    "hardness = np.array([55.8, 59.1, 54.8, 54.6, 43.1, 42.2, 45.2, 31.6, 30.9, 30.8, 17.5, 20.5, 17.2, 16.9])"
   ]
  },
  {
   "cell_type": "markdown",
   "metadata": {},
   "source": [
    "Two numpy arrays 'temp' and 'hardness' are created, representing the temperature (in degrees Celsius) and the corresponding hardness values of a material."
   ]
  },
  {
   "cell_type": "markdown",
   "metadata": {},
   "source": []
  },
  {
   "cell_type": "markdown",
   "metadata": {},
   "source": [
    "3. Reshaping the Temperature Array"
   ]
  },
  {
   "cell_type": "code",
   "execution_count": 21,
   "metadata": {},
   "outputs": [],
   "source": [
    "# Reshape to (14, 1) for the regression model\n",
    "temperature = temp.reshape(-1, 1)"
   ]
  },
  {
   "cell_type": "markdown",
   "metadata": {},
   "source": [
    "The 'temp' array is reshaped into a 2D array with one column and 14 rows. This reshaping is required because 'scikit-learn' expects the input features to be in a 2D array format."
   ]
  },
  {
   "cell_type": "markdown",
   "metadata": {},
   "source": []
  },
  {
   "cell_type": "markdown",
   "metadata": {},
   "source": [
    "4. Creating and Fitting the Linear Regression Model"
   ]
  },
  {
   "cell_type": "code",
   "execution_count": null,
   "metadata": {},
   "outputs": [],
   "source": [
    "# Instantiate the LinearRegression model\n",
    "model = LinearRegression()\n",
    "\n",
    "# Fit the model using the temperature and hardness data\n",
    "model.fit(temperature, hardness)"
   ]
  },
  {
   "cell_type": "markdown",
   "metadata": {},
   "source": [
    "model = LinearRegression(): This line initializes the linear regression model.\n",
    "model.fit(temperature, hardness): The model is trained using the temperature as the independent variable (feature) and hardness as the dependent variable (target)."
   ]
  },
  {
   "cell_type": "markdown",
   "metadata": {},
   "source": []
  },
  {
   "cell_type": "markdown",
   "metadata": {},
   "source": [
    "5. Making Predictions Using the Fitted Model"
   ]
  },
  {
   "cell_type": "code",
   "execution_count": 23,
   "metadata": {},
   "outputs": [],
   "source": [
    "# Predict hardness values based on the model\n",
    "predicted_hardness = model.predict(temperature)"
   ]
  },
  {
   "cell_type": "markdown",
   "metadata": {},
   "source": [
    "The 'predict' method is used to generate predicted hardness values based on the temperature data using the trained model."
   ]
  },
  {
   "cell_type": "markdown",
   "metadata": {},
   "source": []
  },
  {
   "cell_type": "markdown",
   "metadata": {},
   "source": [
    "6. Retrieving the Model's Coefficients and Intercept"
   ]
  },
  {
   "cell_type": "code",
   "execution_count": 24,
   "metadata": {},
   "outputs": [
    {
     "name": "stdout",
     "output_type": "stream",
     "text": [
      "Coefficient (Bias): -1.2661538461538462\n",
      "Intercept (Weight): 94.13406593406594\n"
     ]
    }
   ],
   "source": [
    "# Print the model's coefficient (slope)\n",
    "print(f\"Coefficient (Bias): {model.coef_[0]}\")\n",
    "\n",
    "# Print the model's intercept (y-intercept)\n",
    "print(f\"Intercept (Weight): {model.intercept_}\")"
   ]
  },
  {
   "cell_type": "markdown",
   "metadata": {},
   "source": [
    "model.coef_[0]: Retrieves the slope (coefficient) of the linear regression line.\n",
    "model.intercept_: Retrieves the y-intercept of the regression line."
   ]
  },
  {
   "cell_type": "markdown",
   "metadata": {},
   "source": []
  },
  {
   "cell_type": "markdown",
   "metadata": {},
   "source": [
    "7. Calculating the Coefficient of Determination (R²)"
   ]
  },
  {
   "cell_type": "code",
   "execution_count": 25,
   "metadata": {},
   "outputs": [],
   "source": [
    "# Compute R² score\n",
    "r_squared = r2_score(hardness, predicted_hardness)"
   ]
  },
  {
   "cell_type": "markdown",
   "metadata": {},
   "source": [
    "The R² score measures how well the observed outcomes are replicated by the model, with a value closer to 1 indicating a better fit."
   ]
  },
  {
   "cell_type": "markdown",
   "metadata": {},
   "source": []
  },
  {
   "cell_type": "markdown",
   "metadata": {},
   "source": [
    "8. Formatting the Predicted Hardness Values"
   ]
  },
  {
   "cell_type": "code",
   "execution_count": 26,
   "metadata": {},
   "outputs": [],
   "source": [
    "# Format predictions\n",
    "formatted_predictions = \", \".join([f\"{pred:.4f}\" for pred in predicted_hardness])"
   ]
  },
  {
   "cell_type": "markdown",
   "metadata": {},
   "source": [
    "The predicted hardness values are formatted to four decimal places for clarity, and then concatenated into a single string for easier readability."
   ]
  },
  {
   "cell_type": "markdown",
   "metadata": {},
   "source": []
  },
  {
   "cell_type": "markdown",
   "metadata": {},
   "source": [
    "9. Printing the Predicted Hardness Values and R² Score"
   ]
  },
  {
   "cell_type": "code",
   "execution_count": 27,
   "metadata": {},
   "outputs": [
    {
     "name": "stdout",
     "output_type": "stream",
     "text": [
      "Predicted Hardness: 56.1495, 56.1495, 56.1495, 56.1495, 43.4879, 43.4879, 43.4879, 30.8264, 30.8264, 30.8264, 18.1648, 18.1648, 18.1648, 18.1648\n",
      "R² Score: 0.9915\n"
     ]
    }
   ],
   "source": [
    "# Print formatted predictions\n",
    "print(f\"Predicted Hardness: {formatted_predictions}\")\n",
    "\n",
    "# Print R² score to 4 decimal places\n",
    "print(f\"R² Score: {r_squared:.4f}\")"
   ]
  },
  {
   "cell_type": "markdown",
   "metadata": {},
   "source": [
    "The formatted predictions and R² score are printed to provide a clear view of the model's output."
   ]
  },
  {
   "cell_type": "markdown",
   "metadata": {},
   "source": []
  },
  {
   "cell_type": "markdown",
   "metadata": {},
   "source": [
    "10. Plotting Actual vs. Predicted Hardness"
   ]
  },
  {
   "cell_type": "code",
   "execution_count": 28,
   "metadata": {},
   "outputs": [
    {
     "data": {
      "image/png": "[encoded data removed]",
      "text/plain": [
       "<Figure size 1000x600 with 1 Axes>"
      ]
     },
     "metadata": {},
     "output_type": "display_data"
    }
   ],
   "source": [
    "# Create a new figure with specified size\n",
    "plt.figure(figsize=(10, 6))\n",
    "\n",
    "# Plot actual data points\n",
    "plt.scatter(temperature, hardness, color='blue', label='Actual Hardness')\n",
    "\n",
    "# Plot the fitted regression line\n",
    "plt.plot(temperature, predicted_hardness, color='red', linewidth=2, label='Fitted Line')\n",
    "\n",
    "# X-axis label\n",
    "plt.xlabel('Temperature')\n",
    "\n",
    "# Y-axis label\n",
    "plt.ylabel('Hardness')  \n",
    "\n",
    "# Title of the plot\n",
    "plt.title(f'Predicted Hardness vs Actual Hardness')\n",
    "\n",
    "# Show legend for the plot\n",
    "plt.legend()\n",
    "\n",
    "# Add grid lines for better readability\n",
    "plt.grid(True)\n",
    "\n",
    "# Display the plot\n",
    "plt.show()"
   ]
  },
  {
   "cell_type": "markdown",
   "metadata": {},
   "source": [
    "A scatter plot of actual hardness values against temperature is created, along with a line representing the predicted hardness values (fitted by the regression model). This visualization helps to assess the model's performance."
   ]
  },
  {
   "cell_type": "markdown",
   "metadata": {},
   "source": []
  },
  {
   "cell_type": "markdown",
   "metadata": {},
   "source": [
    "11. Displaying the R² Value Again for Emphasis"
   ]
  },
  {
   "cell_type": "code",
   "execution_count": 29,
   "metadata": {},
   "outputs": [
    {
     "name": "stdout",
     "output_type": "stream",
     "text": [
      "Coefficient of Determination (R²): 0.9915\n"
     ]
    }
   ],
   "source": [
    "# Print R² score to 4 decimal places\n",
    "print(f'Coefficient of Determination (R²): {r_squared:.4f}')"
   ]
  },
  {
   "cell_type": "markdown",
   "metadata": {},
   "source": [
    "The R² score is printed again to emphasize the model's performance in fitting the data."
   ]
  },
  {
   "cell_type": "markdown",
   "metadata": {},
   "source": []
  },
  {
   "cell_type": "markdown",
   "metadata": {},
   "source": [
    "Summary of the Solution Algorithm:\n",
    "\n",
    "Data Preparation: Load the temperature and hardness data into numpy arrays and reshape the temperature data for modeling.\n",
    "\n",
    "Model Training: Use the LinearRegression class from scikit-learn to create and train a linear regression model on the data.\n",
    "\n",
    "Prediction: Predict hardness values using the trained model and calculate the R² score to evaluate the model's accuracy.\n",
    "\n",
    "Visualization: Create a plot comparing the actual and predicted hardness values, which visually demonstrates the model's fit.\n",
    "\n",
    "Output: Display the model's coefficients, predicted values, and R² score, providing insights into the linear relationship between temperature and hardness."
   ]
  }
 ],
 "metadata": {
  "kernelspec": {
   "display_name": "Python 3",
   "language": "python",
   "name": "python3"
  },
  "language_info": {
   "codemirror_mode": {
    "name": "ipython",
    "version": 3
   },
   "file_extension": ".py",
   "mimetype": "text/x-python",
   "name": "python",
   "nbconvert_exporter": "python",
   "pygments_lexer": "ipython3",
   "version": "3.12.5"
  }
 },
 "nbformat": 4,
 "nbformat_minor": 2
}
